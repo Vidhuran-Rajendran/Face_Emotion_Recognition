{
  "nbformat": 4,
  "nbformat_minor": 0,
  "metadata": {
    "colab": {
      "name": "Live class Monitoring System(Face Emotion Recognition).ipynb",
      "provenance": [],
      "collapsed_sections": [],
      "authorship_tag": "ABX9TyOSCwVWHgx+LZR+WOq1rr2L",
      "include_colab_link": true
    },
    "kernelspec": {
      "name": "python3",
      "display_name": "Python 3"
    },
    "language_info": {
      "name": "python"
    },
    "accelerator": "GPU"
  },
  "cells": [
    {
      "cell_type": "markdown",
      "metadata": {
        "id": "view-in-github",
        "colab_type": "text"
      },
      "source": [
        "<a href=\"https://colab.research.google.com/github/Vidhuran-Rajendran/Face_Emotion_Recognition/blob/main/Live_class_Monitoring_System(Face_Emotion_Recognition).ipynb\" target=\"_parent\"><img src=\"https://colab.research.google.com/assets/colab-badge.svg\" alt=\"Open In Colab\"/></a>"
      ]
    },
    {
      "cell_type": "markdown",
      "source": [
        "![downloadfr.jpg](data:image/jpeg;base64,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)\n",
        "\n",
        "# **Project Title** \n",
        "\n",
        " **Live Class Monitoring System(Face Emotion Recognition)**"
      ],
      "metadata": {
        "id": "CMrf65Q0skVv"
      }
    },
    {
      "cell_type": "markdown",
      "source": [
        "\n",
        "# **Project Title** \n",
        "\n",
        " **Live Class Monitoring System(Face Emotion Recognition)**"
      ],
      "metadata": {
        "id": "c5rziHIpsrU4"
      }
    },
    {
      "cell_type": "markdown",
      "source": [
        "# **Project Indroduction**\n",
        "The Indian education landscape has been undergoing rapid changes for the past 10 years owing to\n",
        "the advancement of web-based learning services, specifically, eLearning platforms.\n",
        "\n",
        "Global E-learning is estimated to witness an 8X over the next 5 years to reach USD 2B in 2021. \n",
        "India\n",
        "is expected to grow with a CAGR of 44% crossing the 10M users mark in 2021. Although the market\n",
        "is growing on a rapid scale, there are major challenges associated with digital learning when\n",
        "compared with brick and mortar classrooms.\n",
        "\n",
        " One of many challenges is how to ensure quality\n",
        "learning for students. Digital platforms might overpower physical classrooms in terms of content\n",
        "quality but when it comes to understanding whether students are able to grasp the content in a live\n",
        "class scenario is yet an open-end challenge.\n",
        "\n",
        "In a physical classroom during a lecturing teacher can see the faces and assess the emotion of the\n",
        "class and tune their lecture accordingly, whether he is going fast or slow. He can identify students who\n",
        "need special attention. \n",
        "\n",
        "Digital classrooms are conducted via video telephony software program (exZoom) where it’s not possible for medium scale class (25-50) to see all students and access the\n",
        "mood. Because of this drawback, students are not focusing on content due to lack of surveillance.\n",
        "\n",
        "While digital platforms have limitations in terms of physical surveillance but it comes with the power of\n",
        "data and machines which can work for you. It provides data in the form of video, audio, and texts\n",
        "which can be analysed using deep learning algorithms.\n",
        "\n",
        " Deep learning backed system not only solves\n",
        "the surveillance issue, but it also removes the human bias from the system, and all information is no\n",
        "longer in the teacher’s brain rather translated in numbers that can be analysed and tracked."
      ],
      "metadata": {
        "id": "4IC2iFscstFC"
      }
    },
    {
      "cell_type": "markdown",
      "source": [
        "# **Problem Statement**\n",
        "\n",
        "We will solve the above-mentioned challenge by applying deep learning algorithms to live video data.\n",
        "\n",
        "The solution to this problem is by recognizing facial emotions.\n",
        "\n",
        "##**Face Emotion Recognition**\n",
        "This is a few shot learning live face emotion detection system. The model should be able to real-time\n",
        "identify the emotions of students in a live class.\n",
        "\n",
        "# We will see two different Approach \n",
        "- Pre-trained Model\n",
        "- Build our own Model"
      ],
      "metadata": {
        "id": "zSf4z1S6sxnT"
      }
    },
    {
      "cell_type": "markdown",
      "source": [
        "# Pre-Trained Model Approach\n",
        "\n",
        "We will use DeepFace. DeepFace is a deep learning facial recognition system created by a research group at Facebook. It identifies human faces in digital images. The program employs a nine-layer neural network with over 120 million connection weights and was trained on four million images uploaded by Facebook users.The Facebook Research team has stated that the DeepFace method reaches an accuracy of 97.35% ± 0.25% on Labeled Faces in the Wild (LFW) data set where human beings have 97.53%. This means that DeepFace is sometimes more successful than human beings."
      ],
      "metadata": {
        "id": "M8HiaZc5s3On"
      }
    },
    {
      "cell_type": "code",
      "execution_count": null,
      "metadata": {
        "id": "3_B_Ma-mqn51"
      },
      "outputs": [],
      "source": [
        "#Installing Deepface\n",
        "!pip install deepface"
      ]
    },
    {
      "cell_type": "markdown",
      "source": [
        "# Loading and Testing Deepface "
      ],
      "metadata": {
        "id": "_AQDDthPs9No"
      }
    },
    {
      "cell_type": "code",
      "source": [
        ""
      ],
      "metadata": {
        "id": "mjfdoZNms-IQ"
      },
      "execution_count": null,
      "outputs": []
    }
  ]
}